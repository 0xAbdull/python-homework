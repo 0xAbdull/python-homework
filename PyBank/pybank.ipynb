{
 "cells": [
  {
   "cell_type": "code",
   "execution_count": 61,
   "id": "d28e3efb-6c27-4efd-9148-95360831a2d5",
   "metadata": {},
   "outputs": [
    {
     "name": "stdout",
     "output_type": "stream",
     "text": [
      "Financial Analysis\n",
      "_______________________________\n",
      "Total Months: Date             86\n",
      "Profit/Losses    86\n",
      "dtype: int64\n",
      "Total: $ 38382578\n",
      "Average Change: $-2315.12\n",
      "Greatest Increase in Profits: $1926159.00\n",
      "Greatest Decrease in Profits:  $-2196167.00\n"
     ]
    }
   ],
   "source": [
    "import pandas as pd\n",
    "from pathlib import Path\n",
    "%matplotlib inline\n",
    "\n",
    "#Data import\n",
    "file_path = Path(\"/Users/prsm/Downloads/Instructions/PyBank/Resources/budget_data.csv\")\n",
    "\n",
    "bData = pd.read_csv(file_path)\n",
    "bData.head()\n",
    "\n",
    "#functions\n",
    "months = bData.count()\n",
    "total = bData[\"Profit/Losses\"].sum()\n",
    "\n",
    "bData['shifted_column'] = bData['Profit/Losses'].shift() \n",
    "bData['difference'] = bData['Profit/Losses'] - bData['shifted_column']\n",
    "\n",
    "test = bData['difference']\n",
    "average = bData['difference'].mean()\n",
    "maximum = bData['difference'].max()\n",
    "minimum = bData['difference'].min()\n",
    "\n",
    "\n",
    "#print\n",
    "print(\"Financial Analysis\")\n",
    "print(\"_______________________________\")\n",
    "print(\"Total Months:\",months)\n",
    "print(\"Total: $\",total)\n",
    "print(\"Average Change: $%.2f\" %average)\n",
    "print(\"Greatest Increase in Profits: $%.2f\" %maximum)\n",
    "print(\"Greatest Decrease in Profits:  $%.2f\" %minimum)\n",
    "\n"
   ]
  },
  {
   "cell_type": "code",
   "execution_count": null,
   "id": "ecf366c0-254f-43ee-bf1a-5b510dd58fa2",
   "metadata": {},
   "outputs": [],
   "source": []
  }
 ],
 "metadata": {
  "kernelspec": {
   "display_name": "Python 3 (ipykernel)",
   "language": "python",
   "name": "python3"
  },
  "language_info": {
   "codemirror_mode": {
    "name": "ipython",
    "version": 3
   },
   "file_extension": ".py",
   "mimetype": "text/x-python",
   "name": "python",
   "nbconvert_exporter": "python",
   "pygments_lexer": "ipython3",
   "version": "3.9.13"
  }
 },
 "nbformat": 4,
 "nbformat_minor": 5
}
